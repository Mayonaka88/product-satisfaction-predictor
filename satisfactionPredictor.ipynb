{
 "cells": [
  {
   "cell_type": "code",
   "execution_count": 5,
   "metadata": {},
   "outputs": [
    {
     "name": "stderr",
     "output_type": "stream",
     "text": [
      "[nltk_data] Downloading package stopwords to\n",
      "[nltk_data]     C:\\Users\\abdal\\AppData\\Roaming\\nltk_data...\n",
      "[nltk_data]   Package stopwords is already up-to-date!\n"
     ]
    },
    {
     "data": {
      "text/plain": [
       "True"
      ]
     },
     "execution_count": 5,
     "metadata": {},
     "output_type": "execute_result"
    }
   ],
   "source": [
    "#Importing all the needed packages to extract data, parse, filter, and develop the model\n",
    "from importlib.resources import path\n",
    "import pandas as pd\n",
    "import random\n",
    "import string\n",
    "import nltk\n",
    "from nltk.tokenize import WhitespaceTokenizer\n",
    "from nltk.corpus import stopwords\n",
    "from nltk import classify\n",
    "from nltk import NaiveBayesClassifier\n",
    "import gzip\n",
    "import json \n",
    "\n",
    "nltk.download('stopwords')"
   ]
  },
  {
   "cell_type": "code",
   "execution_count": 2,
   "metadata": {},
   "outputs": [],
   "source": [
    "#This function extracts the data from the json file\n",
    "def parseData(path):\n",
    "  g = gzip.open(path, 'rb')\n",
    "  for l in g:\n",
    "    yield json.loads(l)"
   ]
  },
  {
   "cell_type": "code",
   "execution_count": 3,
   "metadata": {},
   "outputs": [],
   "source": [
    "#This function creates the data frame from the extracted data\n",
    "def getDF(path):\n",
    "  i = 0\n",
    "  df = {}\n",
    "  for d in parseData(path):\n",
    "    df[i] = d\n",
    "    i += 1\n",
    "  return pd.DataFrame.from_dict(df, orient='index')"
   ]
  },
  {
   "cell_type": "code",
   "execution_count": 6,
   "metadata": {},
   "outputs": [
    {
     "name": "stdout",
     "output_type": "stream",
     "text": [
      "4.442208836745755\n"
     ]
    }
   ],
   "source": [
    "#This block of code is only here to test the previous functions\n",
    "\n",
    "ratings = []\n",
    "\n",
    "for review in parseData('C:/Users/abdal/Desktop/Uni/20192023 - NLP/data/Grocery_and_Gourmet_Food_5.json.gz'):\n",
    "  ratings.append(review['overall'])\n",
    "\n",
    "#prints out the average of the ratings in the product reviews\n",
    "print(sum(ratings) / len(ratings))"
   ]
  },
  {
   "cell_type": "code",
   "execution_count": 7,
   "metadata": {},
   "outputs": [],
   "source": [
    "#Here is where the data frame is being created for the model\n",
    "reviews = getDF('C:/Users/abdal/Desktop/Uni/20192023 - NLP/data/Grocery_and_Gourmet_Food_5.json.gz')\n",
    "sample_df = reviews.groupby('overall').apply(lambda x: x.sample(n=10000)).reset_index(drop = True)"
   ]
  },
  {
   "cell_type": "code",
   "execution_count": 8,
   "metadata": {},
   "outputs": [],
   "source": [
    "#Here is where the data frame is being divided into categories based on ratings\n",
    "five_df = sample_df.loc[sample_df['overall'] == 5.0]\n",
    "five_list = five_df['reviewText'].tolist()\n",
    "\n",
    "four_df = sample_df.loc[sample_df['overall'] == 4.0]\n",
    "four_list = four_df['reviewText'].tolist()\n",
    "\n",
    "three_df = sample_df.loc[sample_df['overall'] == 3.0]\n",
    "three_list = three_df['reviewText'].tolist()\n",
    "\n",
    "two_df = sample_df.loc[sample_df['overall'] == 2.0]\n",
    "two_list = two_df['reviewText'].tolist()\n",
    "\n",
    "one_df = sample_df.loc[sample_df['overall'] == 1.0]\n",
    "one_list = one_df['reviewText'].tolist()\n",
    "\n",
    "#Here is where the data frame turns into a string array\n",
    "five_list_to_string = ' '.join([str(elem) for elem in five_list])\n",
    "four_list_to_string = ' '.join([str(elem) for elem in four_list])  \n",
    "three_list_to_string = ' '.join([str(elem) for elem in three_list])  \n",
    "two_list_to_string = ' '.join([str(elem) for elem in two_list])  \n",
    "one_list_to_string = ' '.join([str(elem) for elem in one_list])  \n",
    "\n",
    "#Here is where the string array is changed to lower case to avoid capitalization bais\n",
    "five_list_lowered = five_list_to_string.lower()\n",
    "four_list_lowered = four_list_to_string.lower()\n",
    "three_list_lowered = three_list_to_string.lower()\n",
    "two_list_lowered = two_list_to_string.lower()\n",
    "one_list_lowered = one_list_to_string.lower()\n",
    "\n",
    "stop = set(stopwords.words('english') + list(string.punctuation))\n"
   ]
  },
  {
   "cell_type": "code",
   "execution_count": 9,
   "metadata": {},
   "outputs": [],
   "source": [
    "#Here is where the tokenizer is being created\n",
    "tokenizer = WhitespaceTokenizer()\n",
    "\n",
    "#Here is where the string array is being run through the tokenizer\n",
    "filtered_five_list = [w for w in tokenizer.tokenize(five_list_lowered) if w not in stop] \n",
    "filtered_four_list = [w for w in tokenizer.tokenize(four_list_lowered) if w not in stop] \n",
    "filtered_three_list = [w for w in tokenizer.tokenize(three_list_lowered) if w not in stop] \n",
    "filtered_two_list = [w for w in tokenizer.tokenize(two_list_lowered) if w not in stop] \n",
    "filtered_one_list = [w for w in tokenizer.tokenize(one_list_lowered) if w not in stop] \n",
    "\n",
    "#Here is where the string array is being stripped of punctuation\n",
    "filtered_five_list2 = [w.strip(string.punctuation) for w in filtered_five_list]\n",
    "filtered_four_list2 = [w.strip(string.punctuation) for w in filtered_four_list]\n",
    "filtered_three_list2 = [w.strip(string.punctuation) for w in filtered_three_list]\n",
    "filtered_two_list2 = [w.strip(string.punctuation) for w in filtered_two_list]\n",
    "filtered_one_list2 = [w.strip(string.punctuation) for w in filtered_one_list]\n"
   ]
  },
  {
   "cell_type": "code",
   "execution_count": 10,
   "metadata": {},
   "outputs": [],
   "source": [
    "#Here is where the frequency distribution is being calculated\n",
    "fd_five = nltk.FreqDist(filtered_five_list2) \n",
    "fd_four = nltk.FreqDist(filtered_four_list2) \n",
    "fd_three = nltk.FreqDist(filtered_three_list2) \n",
    "fd_two = nltk.FreqDist(filtered_two_list2) \n",
    "fd_one = nltk.FreqDist(filtered_one_list2) "
   ]
  },
  {
   "cell_type": "code",
   "execution_count": 11,
   "metadata": {},
   "outputs": [],
   "source": [
    "#Here is a functions that return the features of the words in the string arrays\n",
    "def word_features(words):\n",
    "     return dict([(word, True) for word in words.split()])"
   ]
  },
  {
   "cell_type": "code",
   "execution_count": 12,
   "metadata": {},
   "outputs": [],
   "source": [
    "#Here is where the features are saved using the word_features() function\n",
    "five_features = [(word_features(words), '5 Stars') for words in filtered_five_list2]\n",
    "four_features = [(word_features(words), '4 Stars') for words in filtered_four_list2]\n",
    "three_features = [(word_features(words), '3 Stars') for words in filtered_three_list2]\n",
    "two_features = [(word_features(words), '2 Stars') for words in filtered_two_list2]\n",
    "one_features = [(word_features(words), '1 Stars') for words in filtered_one_list2]\n",
    "\n",
    "#All the labeled words are saved in one array\n",
    "#This array will be the data that will be used to train and validate the model\n",
    "labeledwords = five_features + four_features + three_features + two_features + one_features"
   ]
  },
  {
   "cell_type": "code",
   "execution_count": 13,
   "metadata": {},
   "outputs": [],
   "source": [
    "#Here is where the data is getting shuffled to aviod bias\n",
    "random.shuffle(labeledwords)"
   ]
  },
  {
   "cell_type": "code",
   "execution_count": 14,
   "metadata": {},
   "outputs": [],
   "source": [
    "#Here is where the data is getting split\n",
    "#Count is used to calculate the 80:20 split between data\n",
    "count = round(len(labeledwords) * 0.8)\n",
    "train_set, test_set = labeledwords[:count], labeledwords[count:]"
   ]
  },
  {
   "cell_type": "code",
   "execution_count": 15,
   "metadata": {},
   "outputs": [],
   "source": [
    "#Here is where the Naive Bayes Classifier is being trained\n",
    "naiveBayesClassifier = nltk.NaiveBayesClassifier.train(train_set)"
   ]
  },
  {
   "cell_type": "code",
   "execution_count": 17,
   "metadata": {},
   "outputs": [
    {
     "ename": "KeyboardInterrupt",
     "evalue": "",
     "output_type": "error",
     "traceback": [
      "\u001b[1;31m---------------------------------------------------------------------------\u001b[0m",
      "\u001b[1;31mKeyboardInterrupt\u001b[0m                         Traceback (most recent call last)",
      "\u001b[1;32mc:\\Users\\abdal\\Desktop\\Uni\\20192023 - NLP\\model.ipynb Cell 14'\u001b[0m in \u001b[0;36m<cell line: 1>\u001b[1;34m()\u001b[0m\n\u001b[1;32m----> <a href='vscode-notebook-cell:/c%3A/Users/abdal/Desktop/Uni/20192023%20-%20NLP/model.ipynb#ch0000018?line=0'>1</a>\u001b[0m decisionTreeClassifier \u001b[39m=\u001b[39m nltk\u001b[39m.\u001b[39;49mDecisionTreeClassifier\u001b[39m.\u001b[39;49mtrain(train_set)\n",
      "File \u001b[1;32mc:\\Users\\abdal\\AppData\\Local\\Programs\\Python\\Python310\\lib\\site-packages\\nltk\\classify\\decisiontree.py:166\u001b[0m, in \u001b[0;36mDecisionTreeClassifier.train\u001b[1;34m(labeled_featuresets, entropy_cutoff, depth_cutoff, support_cutoff, binary, feature_values, verbose)\u001b[0m\n\u001b[0;32m    <a href='file:///c%3A/Users/abdal/AppData/Local/Programs/Python/Python310/lib/site-packages/nltk/classify/decisiontree.py?line=163'>164</a>\u001b[0m \u001b[39m# Start with a stump.\u001b[39;00m\n\u001b[0;32m    <a href='file:///c%3A/Users/abdal/AppData/Local/Programs/Python/Python310/lib/site-packages/nltk/classify/decisiontree.py?line=164'>165</a>\u001b[0m \u001b[39mif\u001b[39;00m \u001b[39mnot\u001b[39;00m binary:\n\u001b[1;32m--> <a href='file:///c%3A/Users/abdal/AppData/Local/Programs/Python/Python310/lib/site-packages/nltk/classify/decisiontree.py?line=165'>166</a>\u001b[0m     tree \u001b[39m=\u001b[39m DecisionTreeClassifier\u001b[39m.\u001b[39;49mbest_stump(\n\u001b[0;32m    <a href='file:///c%3A/Users/abdal/AppData/Local/Programs/Python/Python310/lib/site-packages/nltk/classify/decisiontree.py?line=166'>167</a>\u001b[0m         feature_names, labeled_featuresets, verbose\n\u001b[0;32m    <a href='file:///c%3A/Users/abdal/AppData/Local/Programs/Python/Python310/lib/site-packages/nltk/classify/decisiontree.py?line=167'>168</a>\u001b[0m     )\n\u001b[0;32m    <a href='file:///c%3A/Users/abdal/AppData/Local/Programs/Python/Python310/lib/site-packages/nltk/classify/decisiontree.py?line=168'>169</a>\u001b[0m \u001b[39melse\u001b[39;00m:\n\u001b[0;32m    <a href='file:///c%3A/Users/abdal/AppData/Local/Programs/Python/Python310/lib/site-packages/nltk/classify/decisiontree.py?line=169'>170</a>\u001b[0m     tree \u001b[39m=\u001b[39m DecisionTreeClassifier\u001b[39m.\u001b[39mbest_binary_stump(\n\u001b[0;32m    <a href='file:///c%3A/Users/abdal/AppData/Local/Programs/Python/Python310/lib/site-packages/nltk/classify/decisiontree.py?line=170'>171</a>\u001b[0m         feature_names, labeled_featuresets, feature_values, verbose\n\u001b[0;32m    <a href='file:///c%3A/Users/abdal/AppData/Local/Programs/Python/Python310/lib/site-packages/nltk/classify/decisiontree.py?line=171'>172</a>\u001b[0m     )\n",
      "File \u001b[1;32mc:\\Users\\abdal\\AppData\\Local\\Programs\\Python\\Python310\\lib\\site-packages\\nltk\\classify\\decisiontree.py:263\u001b[0m, in \u001b[0;36mDecisionTreeClassifier.best_stump\u001b[1;34m(feature_names, labeled_featuresets, verbose)\u001b[0m\n\u001b[0;32m    <a href='file:///c%3A/Users/abdal/AppData/Local/Programs/Python/Python310/lib/site-packages/nltk/classify/decisiontree.py?line=260'>261</a>\u001b[0m best_error \u001b[39m=\u001b[39m best_stump\u001b[39m.\u001b[39merror(labeled_featuresets)\n\u001b[0;32m    <a href='file:///c%3A/Users/abdal/AppData/Local/Programs/Python/Python310/lib/site-packages/nltk/classify/decisiontree.py?line=261'>262</a>\u001b[0m \u001b[39mfor\u001b[39;00m fname \u001b[39min\u001b[39;00m feature_names:\n\u001b[1;32m--> <a href='file:///c%3A/Users/abdal/AppData/Local/Programs/Python/Python310/lib/site-packages/nltk/classify/decisiontree.py?line=262'>263</a>\u001b[0m     stump \u001b[39m=\u001b[39m DecisionTreeClassifier\u001b[39m.\u001b[39;49mstump(fname, labeled_featuresets)\n\u001b[0;32m    <a href='file:///c%3A/Users/abdal/AppData/Local/Programs/Python/Python310/lib/site-packages/nltk/classify/decisiontree.py?line=263'>264</a>\u001b[0m     stump_error \u001b[39m=\u001b[39m stump\u001b[39m.\u001b[39merror(labeled_featuresets)\n\u001b[0;32m    <a href='file:///c%3A/Users/abdal/AppData/Local/Programs/Python/Python310/lib/site-packages/nltk/classify/decisiontree.py?line=264'>265</a>\u001b[0m     \u001b[39mif\u001b[39;00m stump_error \u001b[39m<\u001b[39m best_error:\n",
      "File \u001b[1;32mc:\\Users\\abdal\\AppData\\Local\\Programs\\Python\\Python310\\lib\\site-packages\\nltk\\classify\\decisiontree.py:201\u001b[0m, in \u001b[0;36mDecisionTreeClassifier.stump\u001b[1;34m(feature_name, labeled_featuresets)\u001b[0m\n\u001b[0;32m    <a href='file:///c%3A/Users/abdal/AppData/Local/Programs/Python/Python310/lib/site-packages/nltk/classify/decisiontree.py?line=198'>199</a>\u001b[0m \u001b[39mfor\u001b[39;00m featureset, label \u001b[39min\u001b[39;00m labeled_featuresets:\n\u001b[0;32m    <a href='file:///c%3A/Users/abdal/AppData/Local/Programs/Python/Python310/lib/site-packages/nltk/classify/decisiontree.py?line=199'>200</a>\u001b[0m     feature_value \u001b[39m=\u001b[39m featureset\u001b[39m.\u001b[39mget(feature_name)\n\u001b[1;32m--> <a href='file:///c%3A/Users/abdal/AppData/Local/Programs/Python/Python310/lib/site-packages/nltk/classify/decisiontree.py?line=200'>201</a>\u001b[0m     freqs[feature_value][label] \u001b[39m+\u001b[39m\u001b[39m=\u001b[39m \u001b[39m1\u001b[39m\n\u001b[0;32m    <a href='file:///c%3A/Users/abdal/AppData/Local/Programs/Python/Python310/lib/site-packages/nltk/classify/decisiontree.py?line=202'>203</a>\u001b[0m decisions \u001b[39m=\u001b[39m {val: DecisionTreeClassifier(freqs[val]\u001b[39m.\u001b[39mmax()) \u001b[39mfor\u001b[39;00m val \u001b[39min\u001b[39;00m freqs}\n\u001b[0;32m    <a href='file:///c%3A/Users/abdal/AppData/Local/Programs/Python/Python310/lib/site-packages/nltk/classify/decisiontree.py?line=203'>204</a>\u001b[0m \u001b[39mreturn\u001b[39;00m DecisionTreeClassifier(label, feature_name, decisions)\n",
      "File \u001b[1;32mc:\\Users\\abdal\\AppData\\Local\\Programs\\Python\\Python310\\lib\\site-packages\\nltk\\probability.py:121\u001b[0m, in \u001b[0;36mFreqDist.__setitem__\u001b[1;34m(self, key, val)\u001b[0m\n\u001b[0;32m    <a href='file:///c%3A/Users/abdal/AppData/Local/Programs/Python/Python310/lib/site-packages/nltk/probability.py?line=117'>118</a>\u001b[0m         \u001b[39mself\u001b[39m\u001b[39m.\u001b[39m_N \u001b[39m=\u001b[39m \u001b[39msum\u001b[39m(\u001b[39mself\u001b[39m\u001b[39m.\u001b[39mvalues())\n\u001b[0;32m    <a href='file:///c%3A/Users/abdal/AppData/Local/Programs/Python/Python310/lib/site-packages/nltk/probability.py?line=118'>119</a>\u001b[0m     \u001b[39mreturn\u001b[39;00m \u001b[39mself\u001b[39m\u001b[39m.\u001b[39m_N\n\u001b[1;32m--> <a href='file:///c%3A/Users/abdal/AppData/Local/Programs/Python/Python310/lib/site-packages/nltk/probability.py?line=120'>121</a>\u001b[0m \u001b[39mdef\u001b[39;00m \u001b[39m__setitem__\u001b[39m(\u001b[39mself\u001b[39m, key, val):\n\u001b[0;32m    <a href='file:///c%3A/Users/abdal/AppData/Local/Programs/Python/Python310/lib/site-packages/nltk/probability.py?line=121'>122</a>\u001b[0m     \u001b[39m\"\"\"\u001b[39;00m\n\u001b[0;32m    <a href='file:///c%3A/Users/abdal/AppData/Local/Programs/Python/Python310/lib/site-packages/nltk/probability.py?line=122'>123</a>\u001b[0m \u001b[39m    Override ``Counter.__setitem__()`` to invalidate the cached N\u001b[39;00m\n\u001b[0;32m    <a href='file:///c%3A/Users/abdal/AppData/Local/Programs/Python/Python310/lib/site-packages/nltk/probability.py?line=123'>124</a>\u001b[0m \u001b[39m    \"\"\"\u001b[39;00m\n\u001b[0;32m    <a href='file:///c%3A/Users/abdal/AppData/Local/Programs/Python/Python310/lib/site-packages/nltk/probability.py?line=124'>125</a>\u001b[0m     \u001b[39mself\u001b[39m\u001b[39m.\u001b[39m_N \u001b[39m=\u001b[39m \u001b[39mNone\u001b[39;00m\n",
      "\u001b[1;31mKeyboardInterrupt\u001b[0m: "
     ]
    }
   ],
   "source": [
    "#Here is where the Decision Tree Classifier model is being trained\n",
    "decisionTreeClassifier = nltk.DecisionTreeClassifier.train(train_set)"
   ]
  },
  {
   "cell_type": "code",
   "execution_count": 20,
   "metadata": {},
   "outputs": [
    {
     "name": "stdout",
     "output_type": "stream",
     "text": [
      "  ==> Training (100 iterations)\n",
      "\n",
      "      Iteration    Log Likelihood    Accuracy\n",
      "      ---------------------------------------\n",
      "             1          -1.60944        0.151\n",
      "             2          -1.43133        0.321\n",
      "             3          -1.41052        0.321\n",
      "             4          -1.39921        0.321\n",
      "             5          -1.39205        0.321\n",
      "             6          -1.38710        0.321\n",
      "             7          -1.38346        0.321\n",
      "             8          -1.38067        0.321\n",
      "             9          -1.37847        0.321\n",
      "            10          -1.37668        0.321\n",
      "            11          -1.37519        0.321\n",
      "            12          -1.37394        0.321\n",
      "            13          -1.37288        0.321\n",
      "            14          -1.37196        0.321\n",
      "            15          -1.37115        0.321\n",
      "            16          -1.37044        0.321\n",
      "            17          -1.36981        0.321\n",
      "            18          -1.36925        0.321\n",
      "            19          -1.36875        0.321\n",
      "            20          -1.36829        0.321\n",
      "            21          -1.36788        0.321\n",
      "            22          -1.36750        0.321\n",
      "            23          -1.36715        0.321\n",
      "            24          -1.36684        0.321\n",
      "            25          -1.36654        0.321\n",
      "            26          -1.36627        0.321\n",
      "            27          -1.36602        0.321\n",
      "            28          -1.36578        0.321\n",
      "            29          -1.36557        0.321\n",
      "            30          -1.36536        0.321\n",
      "            31          -1.36517        0.321\n",
      "            32          -1.36499        0.321\n",
      "            33          -1.36482        0.321\n",
      "            34          -1.36466        0.321\n",
      "            35          -1.36451        0.321\n",
      "            36          -1.36437        0.321\n",
      "            37          -1.36423        0.321\n",
      "            38          -1.36410        0.321\n",
      "            39          -1.36398        0.321\n",
      "            40          -1.36387        0.321\n",
      "            41          -1.36376        0.321\n",
      "            42          -1.36365        0.321\n",
      "            43          -1.36355        0.321\n",
      "            44          -1.36345        0.321\n",
      "            45          -1.36336        0.321\n",
      "            46          -1.36327        0.321\n",
      "            47          -1.36319        0.321\n",
      "            48          -1.36311        0.321\n",
      "            49          -1.36303        0.321\n",
      "            50          -1.36296        0.321\n",
      "            51          -1.36289        0.321\n",
      "            52          -1.36282        0.321\n",
      "            53          -1.36275        0.321\n",
      "            54          -1.36269        0.321\n",
      "            55          -1.36263        0.321\n",
      "            56          -1.36257        0.321\n",
      "            57          -1.36251        0.321\n",
      "            58          -1.36245        0.321\n",
      "            59          -1.36240        0.321\n",
      "            60          -1.36235        0.321\n",
      "            61          -1.36230        0.321\n",
      "            62          -1.36225        0.321\n",
      "            63          -1.36220        0.321\n",
      "            64          -1.36216        0.321\n",
      "            65          -1.36211        0.321\n",
      "            66          -1.36207        0.321\n",
      "            67          -1.36203        0.321\n",
      "            68          -1.36199        0.321\n",
      "            69          -1.36195        0.321\n",
      "            70          -1.36191        0.321\n",
      "            71          -1.36187        0.321\n",
      "            72          -1.36184        0.321\n",
      "            73          -1.36180        0.321\n",
      "            74          -1.36177        0.321\n",
      "            75          -1.36174        0.321\n",
      "            76          -1.36170        0.321\n",
      "            77          -1.36167        0.321\n",
      "            78          -1.36164        0.321\n",
      "            79          -1.36161        0.321\n",
      "            80          -1.36158        0.321\n",
      "            81          -1.36155        0.321\n",
      "            82          -1.36153        0.321\n",
      "            83          -1.36150        0.321\n",
      "            84          -1.36147        0.321\n",
      "            85          -1.36145        0.321\n",
      "            86          -1.36142        0.321\n",
      "            87          -1.36140        0.321\n",
      "            88          -1.36137        0.321\n",
      "            89          -1.36135        0.321\n",
      "            90          -1.36132        0.321\n",
      "            91          -1.36130        0.321\n",
      "            92          -1.36128        0.321\n",
      "            93          -1.36126        0.321\n",
      "            94          -1.36124        0.321\n",
      "            95          -1.36122        0.321\n",
      "            96          -1.36120        0.321\n",
      "            97          -1.36118        0.321\n",
      "            98          -1.36116        0.321\n",
      "            99          -1.36114        0.321\n",
      "         Final          -1.36112        0.321\n"
     ]
    }
   ],
   "source": [
    "#Here is where the Maxent Classifier model is being trained\n",
    "maxentClassifier = nltk.MaxentClassifier.train(train_set)"
   ]
  },
  {
   "cell_type": "code",
   "execution_count": 21,
   "metadata": {},
   "outputs": [
    {
     "name": "stdout",
     "output_type": "stream",
     "text": [
      "27.895344672871623\n",
      "27.61527658735428\n"
     ]
    }
   ],
   "source": [
    "#Here is where the accuracy of each model is found\n",
    "#The model with the highest accuracy will be used\n",
    "print(nltk.classify.accuracy(naiveBayesClassifier, test_set)*100)\n",
    "print(nltk.classify.accuracy(decisionTreeClassifier, test_set)*100)\n",
    "print(nltk.classify.accuracy(maxentClassifier, test_set)*100)"
   ]
  },
  {
   "cell_type": "code",
   "execution_count": 16,
   "metadata": {},
   "outputs": [],
   "source": [
    "#Importing the tkinter package that is being used to create the GUI\n",
    "from tkinter import *\n",
    "from tkinter.font import BOLD\n",
    "\n",
    "#Here is were the tkinter canvas is created\n",
    "root = Tk()\n",
    "root.title(\"Satisfaction Predictor For Product Reviews\")\n",
    "root.geometry(\"1000x600\")\n",
    "root.resizable(width=FALSE,height=FALSE)\n",
    "root[\"bg\"]=\"#202020\"\n",
    "\n",
    "#The welcome message is created here using labels\n",
    "label1 = Label(root, text=\"Welcome to Stari\",  width=\"12\", height=5,bd=0, background=\"#202020\",foreground='white',font=(\"Catamaran\", 50))\n",
    "label1.place(x=175,y=5, height=100, width=650)\n",
    "\n",
    "label2 = Label(root, text=\"A Satisfaction Predictor For Product Reviews!\",  width=\"12\", height=5,bd=0, background=\"#202020\",foreground='white',font=(\"Catamaran\", 16))\n",
    "label2.place(x=200,y=90, height=50, width=600)\n",
    "\n",
    "label8 = Label(root, text=\"Just write down a review and stari will predict your satisfaction level\", background=\"#202020\", width=\"12\", height=5,bd=0,foreground='white',font=(\"Catamaran\", 12))\n",
    "label8.place(x=200,y=140, height=40, width=600)\n",
    "\n",
    "label8 = Label(root, text=\"\", background=\"#202020\", width=\"12\", height=5,bd=0,foreground='white',font=(\"Catamaran\", 26))\n",
    "label8.place(x=200,y=425, height=40, width=600)\n",
    "\n",
    "#Here is where the input box is created\n",
    "chatWindow1 = Text(root, bd=1, bg=\"white\",  width=\"50\", height=\"8\", font=(\"Catamaran\", 16), foreground=\"white\", padx=10, pady=10,wrap=WORD,background=\"#0f0f0f\",borderwidth=0)\n",
    "chatWindow1.place(x=200,y=200, height=200, width=600)\n",
    "\n",
    "#This method is used to extract the input from the input box and run it through the model\n",
    "#After the model predicts the satisfaction level of the user, it prints it onto a label\n",
    "def printReview(userInput):\n",
    "    prediction = naiveBayesClassifier.classify(word_features(userInput))\n",
    "    if(prediction == \"1 Stars\"):\n",
    "        prediction = \"Extremely Unsatisfactied\"\n",
    "    elif(prediction == \"2 Stars\"):\n",
    "        prediction = \"Unsatisfactied\"\n",
    "    elif(prediction == \"3 Stars\"):\n",
    "        prediction = \"Neutral\"\n",
    "    elif(prediction == \"4 Stars\"):\n",
    "        prediction = \"Satisfactied\"\n",
    "    elif(prediction == \"5 Stars\"):\n",
    "        prediction = \"Extremely Satisfactied\"\n",
    "    \n",
    "    label8.config(text = prediction)\n",
    "    \n",
    "\n",
    "#Here is where the button is created. When the button is pressed, it will call the printReview() function\n",
    "button1 = Button(root, text=\"Proceed\",  width=\"12\", height=5,bd=0, bg=\"#2d2d2d\", activebackground=\"white\",foreground='#ffffff',font=(\"Catamaran\", 20), command=lambda: printReview(chatWindow1.get(\"1.0\", END)))\n",
    "button1.place(x=250,y=525, height=50, width=500)\n",
    "\n",
    "root.mainloop()"
   ]
  }
 ],
 "metadata": {
  "interpreter": {
   "hash": "be4d790d84ac43a242e708596ecc1cdd41e227f257f1454e7336703a902f8851"
  },
  "kernelspec": {
   "display_name": "Python 3.10.4 64-bit",
   "language": "python",
   "name": "python3"
  },
  "language_info": {
   "codemirror_mode": {
    "name": "ipython",
    "version": 3
   },
   "file_extension": ".py",
   "mimetype": "text/x-python",
   "name": "python",
   "nbconvert_exporter": "python",
   "pygments_lexer": "ipython3",
   "version": "3.10.4"
  },
  "orig_nbformat": 4
 },
 "nbformat": 4,
 "nbformat_minor": 2
}
